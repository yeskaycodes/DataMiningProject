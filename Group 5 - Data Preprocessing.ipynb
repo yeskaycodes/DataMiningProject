{
 "cells": [
  {
   "cell_type": "code",
   "execution_count": null,
   "id": "1cd47eeb-a398-4dea-8f5f-de3d62856ace",
   "metadata": {},
   "outputs": [],
   "source": [
    "import pandas as pd\n",
    "import numpy as np\n",
    "import re"
   ]
  },
  {
   "cell_type": "code",
   "execution_count": 2,
   "id": "99931e0c-016f-45e2-b475-60a3b44d6d1c",
   "metadata": {},
   "outputs": [],
   "source": [
    "data = pd.read_csv(\"data.csv\")"
   ]
  },
  {
   "cell_type": "code",
   "execution_count": 3,
   "id": "898b4e55-e043-4cb6-8a0a-a34781a243a2",
   "metadata": {},
   "outputs": [
    {
     "name": "stdout",
     "output_type": "stream",
     "text": [
      "         MLS_id      Price  Beds  Baths  Sqft  Year_built  \\\n",
      "0    ML81964272  2998888.0     4      3  2764        1986   \n",
      "1    ML81964119   580000.0     2      2  1125        1986   \n",
      "2    BE41057198  1588000.0     4      2  1797        1965   \n",
      "3    BE41058557   699888.0     2      2  1040        1991   \n",
      "4    ML81964175   799000.0     2      2   930        1987   \n",
      "..          ...        ...   ...    ...   ...         ...   \n",
      "801  BE41049475   685000.0     2      2   947        2000   \n",
      "802  CC41049309  4195000.0     5      6  5992        1975   \n",
      "803  CC41049163   375000.0     1      1   758        1974   \n",
      "804  BE41043078  7200000.0     3      2  2424        1930   \n",
      "814  BE41010860  1500000.0     3      2  2800        1938   \n",
      "\n",
      "               Property_type  HOA  No_of_days_onsite  \\\n",
      "0    Single Family Residence  420                  1   \n",
      "1                Condominium  703                  1   \n",
      "2    Single Family Residence  703                  1   \n",
      "3                Condominium  418                  1   \n",
      "4                  Townhouse  475                  1   \n",
      "..                       ...  ...                ...   \n",
      "801              Condominium  365                 87   \n",
      "802  Single Family Residence  365                 89   \n",
      "803              Condominium  523                 93   \n",
      "804  Single Family Residence  523                191   \n",
      "814  Single Family Residence    0                577   \n",
      "\n",
      "                       Address       City Zipcode  \n",
      "0           46097 Raindance Rd    Fremont   94539  \n",
      "1     3454 Bridgewood Ter #111    Fremont   94536  \n",
      "2                36163 Corsica    Fremont   94536  \n",
      "3     3695 Stevenson Blvd #211    Fremont   94538  \n",
      "4            4875 Richland Ter    Fremont   94555  \n",
      "..                         ...        ...     ...  \n",
      "801       51 Bellington Cmn #8  Livermore   94551  \n",
      "802  12400 Morgan Territory Rd  Livermore   94551  \n",
      "803    1087 Murrieta Blvd #337  Livermore   94550  \n",
      "804            8100 Carneal Rd  Livermore   94551  \n",
      "814          7777 Del Valle Rd  Livermore   94550  \n",
      "\n",
      "[631 rows x 12 columns]\n"
     ]
    }
   ],
   "source": [
    "df1 = data\n",
    "pattern = r\"\\$\\d+(,\\d{3})*(\\.\\d+)??\"\n",
    "def clean_price(price_str):\n",
    "  match = re.search(pattern, price_str)\n",
    "  if match:\n",
    "      cleaned_price = match.group().strip(\"$\").replace(\",\", \"\")\n",
    "      return float(cleaned_price)\n",
    "  else:\n",
    "      return None\n",
    "df1[\"Price\"] = df1[\"Price\"].apply(clean_price)\n",
    "\n",
    "df2 = df1\n",
    "pattern = r\"(\\d+)\\s*(?:day|days)\\s*(?:on\\s*site|site)?\"\n",
    "\n",
    "def clean_days(days_str):\n",
    "  match = re.search(pattern, days_str, flags=re.IGNORECASE)\n",
    "  if match:\n",
    "    return int(match.group(1))\n",
    "  else:\n",
    "    return None\n",
    "df2[\"No_of_days_onsite\"] = df2[\"No_of_days_onsite\"].apply(clean_days)\n",
    "\n",
    "df3 = df2\n",
    "def split_location(location_str):\n",
    "  pattern = r\"(.*?)\\, (.*?)\\, (.*)\"\n",
    "  match = re.match(pattern, location_str)\n",
    "  if match:\n",
    "    return match.groups()\n",
    "  else:\n",
    "    return [None, None, None]\n",
    "\n",
    "df3[['Address', 'City', 'Zipcode']] = df3['Location'].apply(split_location).tolist()\n",
    "df3 = df3.drop('Location', axis=1)\n",
    "df4 = df3\n",
    "df_f = df4[df4['Beds'] != '–']\n",
    "df_f = df_f[df_f['Year_built'] != '–']\n",
    "df_f = df_f[df_f['Baths'] != '–']\n",
    "df_f['Baths'] = pd.to_numeric(df_f['Baths'], errors='coerce')\n",
    "df_f.dropna(subset=['Baths'], inplace=True)\n",
    "df_final = df_f\n",
    "df_final['Beds'] = df_final['Beds'].astype(\"int64\")\n",
    "df_final['Baths'] = df_final['Baths'].astype(\"int64\")\n",
    "df_final['No_of_days_onsite'] = df_final['No_of_days_onsite'].astype(\"int64\")\n",
    "df_final['Sqft'] = df_final['Sqft'].str.replace(',', '')\n",
    "df_final['Sqft'] = df_final['Sqft'].astype(\"int64\")\n",
    "df_final['Year_built'] = df_final['Year_built'].astype(\"int64\")\n",
    "df_final['Property_type'] = df_final['Property_type'].astype(\"str\")\n",
    "df_final['Address'] = df_final['Address'].astype(\"str\")\n",
    "df_final['City'] = df_final['City'].astype(\"str\")\n",
    "df_final['City'] = df_final['City'].str.strip()\n",
    "\n",
    "def extract_numbers(text):\n",
    "    zip_pattern = r'\\b\\d{5}\\b'\n",
    "    match = re.search(zip_pattern, text)\n",
    "    if match:\n",
    "        return match.group(0)\n",
    "    else:\n",
    "        return None\n",
    "df_final['Zipcode'] = df_final['Zipcode'].apply(extract_numbers)\n",
    "df_final['Zipcode'] = df_final['Zipcode'].str.join('')\n",
    "df_final.dropna(subset=['Zipcode'], inplace=True)\n",
    "df_final['City'] = df_final['City'].str.strip()\n",
    "\n",
    "df_final = df_final[(df_f['Year_built'] != '0') & (~df_final['Year_built'].isna())]\n",
    "df_final['Year_built'] = df_final['Year_built'].replace('–', pd.NA)\n",
    "df_final.dropna(subset=['Year_built'], inplace=True)\n",
    "print(df_final)\n",
    "df_final.to_csv(\"final.csv\")"
   ]
  },
  {
   "cell_type": "code",
   "execution_count": null,
   "id": "5bcb1d39-47f5-4c51-8d54-107a48427b07",
   "metadata": {},
   "outputs": [],
   "source": []
  },
  {
   "cell_type": "code",
   "execution_count": null,
   "id": "25283ecb-b592-48e5-95e1-94c36d6e0767",
   "metadata": {},
   "outputs": [],
   "source": []
  },
  {
   "cell_type": "code",
   "execution_count": null,
   "id": "dfb8e8f7-c979-4553-addf-4f0fe777559f",
   "metadata": {},
   "outputs": [],
   "source": []
  },
  {
   "cell_type": "code",
   "execution_count": null,
   "id": "b667be7f-76c5-464a-8cc7-7dec9ab1e7b0",
   "metadata": {},
   "outputs": [],
   "source": []
  },
  {
   "cell_type": "code",
   "execution_count": null,
   "id": "602d61b6-ba6b-482d-a886-88908e35ea2d",
   "metadata": {},
   "outputs": [],
   "source": []
  },
  {
   "cell_type": "code",
   "execution_count": null,
   "id": "9b370051-3cc1-4540-b035-99d56aaec93b",
   "metadata": {},
   "outputs": [],
   "source": []
  },
  {
   "cell_type": "code",
   "execution_count": null,
   "id": "b3da4674-ca62-4ca2-a715-a1bc9f2b046b",
   "metadata": {},
   "outputs": [],
   "source": []
  },
  {
   "cell_type": "code",
   "execution_count": null,
   "id": "eb4e8e59-0f43-4bf7-83c1-a253ff6824fe",
   "metadata": {},
   "outputs": [],
   "source": []
  },
  {
   "cell_type": "code",
   "execution_count": null,
   "id": "5e5dc94f-e7c6-4fe8-8aa9-081db867bce6",
   "metadata": {},
   "outputs": [],
   "source": []
  },
  {
   "cell_type": "code",
   "execution_count": null,
   "id": "7f8bdf1a-fb1b-437b-b51a-ffcd0c600347",
   "metadata": {},
   "outputs": [],
   "source": []
  },
  {
   "cell_type": "code",
   "execution_count": null,
   "id": "8ddebf32-4a91-426b-abef-e8b5445fd435",
   "metadata": {},
   "outputs": [],
   "source": []
  }
 ],
 "metadata": {
  "kernelspec": {
   "display_name": "Python 3 (ipykernel)",
   "language": "python",
   "name": "python3"
  },
  "language_info": {
   "codemirror_mode": {
    "name": "ipython",
    "version": 3
   },
   "file_extension": ".py",
   "mimetype": "text/x-python",
   "name": "python",
   "nbconvert_exporter": "python",
   "pygments_lexer": "ipython3",
   "version": "3.11.5"
  }
 },
 "nbformat": 4,
 "nbformat_minor": 5
}
